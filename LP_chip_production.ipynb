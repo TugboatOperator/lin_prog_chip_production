{
 "cells": [
  {
   "cell_type": "code",
   "execution_count": 4,
   "metadata": {},
   "outputs": [],
   "source": [
    "from pulp import *"
   ]
  },
  {
   "cell_type": "markdown",
   "metadata": {},
   "source": [
    "The below are constraints provided for each product option\n",
    "\n",
    "| Product | Time | Profit | Cost |\n",
    "|---------|------|--------|------|\n",
    "| 1       | 15   | 55     | 10   |\n",
    "| 2       | 18   | 65     | 12   |\n",
    "| 3       | 9    | 50     | 8    |\n",
    "| 4       | 12   | 60     | 9    |\n",
    "| 5       | 25   | 80     | 15   |\n",
    "| 6       | 15   | 45     | 10   |\n",
    "| 7       | 6    | 40     | 7    |\n",
    "| 8       | 21   | 75     | 14   |\n",
    "| 9       | 9    | 48     | 8    |\n",
    "| 10      | 21   | 62     | 12   |"
   ]
  },
  {
   "cell_type": "code",
   "execution_count": 5,
   "metadata": {},
   "outputs": [],
   "source": [
    "#Define Index of products\n",
    "Products = [1,2,3,4,5,6,7,8,9,10]\n",
    "\n",
    "#Set Parameters to be used by optimization function as \n",
    "Time = makeDict([Products], [15,18,9,12,25,15,6,21,9,21])\n",
    "Profit = makeDict([Products], [55,65,50,60,80,45,40,75,48,62])\n",
    "Cost = makeDict([Products], [10,12,8,9,15,10,7,14,8,12])\n",
    "\n",
    "MaxMinutes = 7200\n",
    "MinProduce = 100\n",
    "TotalProduce = 750\n",
    "ProductsSelected = 5"
   ]
  },
  {
   "cell_type": "code",
   "execution_count": 6,
   "metadata": {},
   "outputs": [],
   "source": [
    "#Decision Variables\n",
    "Production_vars = LpVariable.dicts('x', (Products), lowBound=0, cat='Integer')\n",
    "Acceptance_vars = LpVariable.dicts('y', (Products), cat='Binary')"
   ]
  },
  {
   "cell_type": "markdown",
   "metadata": {},
   "source": [
    "## Optimization Function\n",
    "The function below defines a model and then builds onto the model by adding an optimization function and constraints to the model"
   ]
  },
  {
   "cell_type": "code",
   "execution_count": null,
   "metadata": {},
   "outputs": [
    {
     "name": "stderr",
     "output_type": "stream",
     "text": [
      "c:\\Users\\koryi\\anaconda3\\Lib\\site-packages\\pulp\\pulp.py:1298: UserWarning: Spaces are not permitted in the name. Converted to '_'\n",
      "  warnings.warn(\"Spaces are not permitted in the name. Converted to '_'\")\n"
     ]
    }
   ],
   "source": [
    "model = LpProblem('MakersSmart Inc', LpMaximize)\n",
    "\n",
    "#Objective Function\n",
    "model += lpSum([(Production_vars[i]) * (Profit[i] - Cost[i]) for i in Products])\n",
    "\n",
    "# Minimum produced if selected constraint\n",
    "# create logical relationship between x and y. Since Y (acceptance_variables) is a binary outcome\n",
    "# this line ensures that following the product selection the production amount of that particular\n",
    "# variable can produce up to but not including the total produce.\n",
    "for i in Products:\n",
    "    model += Production_vars[i] >= MinProduce * Acceptance_vars[i]\n",
    "    model += Production_vars[i] <= TotalProduce * Acceptance_vars[i]\n",
    "\n",
    "#Max of 7200 hours available constraint\n",
    "model += lpSum([Production_vars[i] * Time[i] for i in Products]) <= MaxMinutes\n",
    "\n",
    "#At most 750 products to produce cnonstraint\n",
    "model += lpSum([Production_vars[i] for i in Products]) <= TotalProduce\n",
    "\n",
    "#5 products must be utilized exactly\n",
    "model += lpSum([Acceptance_vars[i] for i in Products]) == ProductsSelected\n"
   ]
  },
  {
   "cell_type": "code",
   "execution_count": null,
   "metadata": {},
   "outputs": [
    {
     "name": "stdout",
     "output_type": "stream",
     "text": [
      "Status: Optimal\n"
     ]
    }
   ],
   "source": [
    "#DEtermine whether the solver can find an optimal model\n",
    "model.solve()\n",
    "print(\"Status:\", LpStatus[model.status])"
   ]
  },
  {
   "cell_type": "code",
   "execution_count": null,
   "metadata": {},
   "outputs": [
    {
     "name": "stdout",
     "output_type": "stream",
     "text": [
      "Total Net Revenue: 31150.0\n"
     ]
    }
   ],
   "source": [
    "#Print the optimal revenue possible\n",
    "print(\"Total Net Revenue:\",value(model.objective))"
   ]
  },
  {
   "cell_type": "code",
   "execution_count": null,
   "metadata": {},
   "outputs": [
    {
     "name": "stdout",
     "output_type": "stream",
     "text": [
      "x_1 = 100.0\n",
      "x_10 = 0.0\n",
      "x_2 = 0.0\n",
      "x_3 = 100.0\n",
      "x_4 = 200.0\n",
      "x_5 = 0.0\n",
      "x_6 = 0.0\n",
      "x_7 = 250.0\n",
      "x_8 = 0.0\n",
      "x_9 = 100.0\n",
      "y_1 = 1.0\n",
      "y_10 = 0.0\n",
      "y_2 = 0.0\n",
      "y_3 = 1.0\n",
      "y_4 = 1.0\n",
      "y_5 = 0.0\n",
      "y_6 = 0.0\n",
      "y_7 = 1.0\n",
      "y_8 = 0.0\n",
      "y_9 = 1.0\n"
     ]
    }
   ],
   "source": [
    "#Print the variables found to be most optimal for each of the 5 selected products\n",
    "for v in model.variables():\n",
    "    print(v.name, \"=\", v.varValue)"
   ]
  }
 ],
 "metadata": {
  "kernelspec": {
   "display_name": "base",
   "language": "python",
   "name": "python3"
  },
  "language_info": {
   "codemirror_mode": {
    "name": "ipython",
    "version": 3
   },
   "file_extension": ".py",
   "mimetype": "text/x-python",
   "name": "python",
   "nbconvert_exporter": "python",
   "pygments_lexer": "ipython3",
   "version": "3.12.7"
  }
 },
 "nbformat": 4,
 "nbformat_minor": 2
}
